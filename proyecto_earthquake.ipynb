{
 "cells": [
  {
   "cell_type": "markdown",
   "id": "bcd95352-7bc3-4997-8ca0-b53f0a8c1003",
   "metadata": {
    "scrolled": true
   },
   "source": [
    "<h3 align=center>PROYECTO PARA KEEPCODING</h3>\n",
    "<h1 align=center style=\"color:CornflowerBlue; text-decoration: underline\">PREDICCIÓN DE DAÑOS EN EDIFICIOS CAUSADOS POR TERREMOTOS</h1>"
   ]
  },
  {
   "cell_type": "markdown",
   "id": "12c2e62b-4d92-4d63-9ee2-9c795745794b",
   "metadata": {},
   "source": [
    "<h4 align=center style=\"font-family:Verdana;\">Equipo: The Bad Batch</h4>\n",
    "<h4 align=center style=\"font-family:Verdana;\">Alumnos: Alejandro Taboada, Juan Cruz Gulam, Fernando Cuéllar, Iván Herráiz, David Jiménez</h4>"
   ]
  },
  {
   "cell_type": "markdown",
   "id": "695dec59-405f-4338-85ac-bb5beb9a7ddf",
   "metadata": {},
   "source": [
    "---"
   ]
  },
  {
   "cell_type": "markdown",
   "id": "a1b20ccf-3a73-44bc-b9c8-fd37fa8ff384",
   "metadata": {},
   "source": [
    "## <span style=\"color:CornflowerBlue; text-decoration: underline overline;\">MOTIVACIÓN:</span>\n",
    "* Aunque todo el mundo sabe lo que son los terremotos, nadie puede predecir con exactitud cuándo pasarán, o qué consecuencias tendrán, sólo se pueden hacer suposiciones\n",
    "* aproximadas.  \n",
    "* Este estudio surge para intentar ayudar a predecir y mitigar las consecuencias de uno de los efectos más devastadores de los seísmos para la humanidad: la destrucción\n",
    "* de edificaciones, con la probabilidad de que suceda con sus habitantes dentro.\n",
    "* Encontramos inspiración y punto de arranque del dataset en <a href=\"https://www.drivendata.org/competitions/57/nepal-earthquake/page/134/\" style=\"text-decoration: underline\">DrivenData</a>, sitio dedicado a promover competiciones de código para uso en proyectos  \n",
    "de ayuda global reales a petición de diversas organizaciones. Esta competición está sin cerrar, por lo que no se ha proporcionado una solución para el proyecto que\n",
    "hayamos podido usar aquí."
   ]
  },
  {
   "cell_type": "markdown",
   "id": "dcdac577-0551-45ab-87dc-cc183bbf28b7",
   "metadata": {},
   "source": [
    "## <span style=\"color:CornflowerBlue; text-decoration: underline overline;\">ANTECEDENTES DEL ESTUDIO:</span>\n",
    "Nos baseremos en el <a href=\"https://es.wikipedia.org/wiki/Terremoto_de_Nepal_de_abril_de_2015\" style=\"text-decoration: underline\">Terremoto en Nepal en Abril de 2015:</a>  \n",
    "\\\n",
    "<img src=\"./images/nepal.webp\" alt=\"Nepal\" width=\"600\"/></img>\n",
    "\\\n",
    "\\\n",
    "En Abril del 2015 hubo un terremoto en Nepal de 7.8 en la escala de Richter, a 80 kms de la icónica Katmandú seguida de más de cien réplicas, y tres semanas después otro de 7.2 que terminó  \n",
    "de asolar la región. Hubo unas 9000 víctimas mortales y casi 22000 heridos, además de muertes en India y en Tíbet.  \n",
    "Usaremos este evento en concreto por ser el que tiene uno de los más grandes y mejor documentados <a href=\"https://github.com/TheBadBatchProjects/earthquakes/blob/main/data/archive.zip\" style=\"text-decoration: underline\">datasets</a> de análisis de secuelas del mundo.  \n",
    "Describe tanto las características de las construcciones previas al terremoto como su estado tras el seísmo, además de datos sociales y de impacto que pueden ser muy útiles tanto para análisis  \n",
    "como para predicción.\n",
    "\\\n",
    "\\\n",
    "<img src=\"./images/original.jpg\" alt=\"Nepal Temple Down\" width=\"600\"/> </img><img src=\"./images/collage.jpg\" alt=\"Collage\" width=\"680\"/></img>\n",
    "\\\n",
    "\\\n",
    "Es de sobra conocido que esa región se encuentra situada justo encima de la zona en la que la placa India se introduce bajo la placa Eurasiática, dando lugar a la cordillera del Tíbet y a  \n",
    "las mayores montañas de la Tierra debido a la violencia del choque. Se prevée que la placa Índica acabará desapareciendo bajo la Eurasiática eventualmente, y además situada junto al  \n",
    "\"Cinturón de Fuego\" del Pacífico, donde se encuentran al menos 6 placas, incluída la Indo-Australiana. Por lo tanto, tienen continuos seísmos, que podrían tener consecuencias como las  \n",
    "ocurridas en este caso.  \n",
    "A continuación podemos cer la placa Índica, y a la derecha la distribución de las placas de la Tierra y en <span style=\"color:red;\">puntos rojos</span> representadas las intensidades y frecuencias de los seísmos catastróficos.\n",
    "\n",
    "<img src=\"./images/india_moving.jpg\" alt=\"Indian plate\" width=\"250\"/> </img><img src=\"./images/plates.webp\" alt=\"Collage\" width=\"750\"/></img>\n",
    "\\\n",
    "\\\n",
    "Se puede observar que en todas las zonas de contacto de las placas tienen la misma ocurrencia de seísmos catastróficos, no son catástrofes exclusivas de una sola unión de placas, por lo que  \n",
    "este modelo podría ayudar en cualquier parte del mundo con un simple ajuste de las características de las edificaciones y terrenos.\n",
    "\\\n",
    "\\\n",
    "En toda la parte central y oriental del continente asiático son típicas y de uso masivo las construcciones con materiales baratos, y usando métodos de construcción con miles de años de  \n",
    "antigüedad, como barro y paja, bambú, ladrillos sin cimientos, etc..., por lo que corren riesgos masivos de daños catastróficos materiales y humanos. De hecho, hay edificaciones Patrimonio  \n",
    "de la Humanidad por su belleza, contenido cultural y gran antigüedad. Mucho de este mítico legado de la Humanidad fue destruído durante los seísmos. Dada la similitud de las construcciones  \n",
    "en toda esa mitad del continente este modelo podría resultar de aplicación casi inmediata en cualquiera de esas regiones, como comienzo de un posible programa estándar de censado de edificios  \n",
    "y asesoramiento en prevención de desastres.  "
   ]
  },
  {
   "cell_type": "markdown",
   "id": "8fdc7b10-bb6c-404e-905c-026aeff72767",
   "metadata": {},
   "source": [
    "## <span style=\"color:CornflowerBlue; text-decoration: underline overline;\">LOS DATOS:</span>\n",
    "\n",
    "El dataset se recogió dividido en varios sets según temática, con filosofía parecida a una base de datos relacional.\\\n",
    "Dichos archivos están en el directorio \"data\" del proyecto.  \n",
    "<details><summary><i><b><a style=\"color:DarkTurquoise; text-decoration: underline\">Mostrar la información de los datos</a></b></i></summary>\n",
    "<br>\n",
    "Nuestro archivo de features principal es:  \n",
    "\n",
    "* **<span style=\"color:Crimson;\">\"building_structure.csv\"</span>**, que contiene las características del edificio, del cual saldrá nuestro target a predecir, \"damage grade\" (el grado de daños en  \n",
    "el edificio), al que adjuntaremos la solución técnica propuesta para cada caso (\"technical_solution_proposed\").\n",
    "(con soluciones de 4 tipos según el grado  \n",
    "de daños). Guarda las variables:\n",
    "    * <span style=\"color:DarkGoldenrod;\">\"building_id\"</span>, que contiene el identificador único del edificio/vivienda.\n",
    "    * <span style=\"color:DarkGoldenrod;\">\"district_id\", \"vdcmun_id\" y \"ward_id\"</span>, que contienen datos de localización del edificio/vivienda.\n",
    "    * <span style=\"color:DarkGoldenrod;\">\"count_floors_pre_eq\"</span>, que cuenta las plantas con las que cuenta el edificio antes del terremoto (pre EarthQuake, pre_eq).\n",
    "    * <span style=\"color:DarkGoldenrod;\">\"count_floors_post_eq\"</span>, que cuenta las plantas que le quedan levantadas al edificio tras el terremoto (post EarthQuake, post_eq).\n",
    "    * <span style=\"color:DarkGoldenrod;\">\"age_building\"</span>, la edad en años del edificio.\n",
    "    * <span style=\"color:DarkGoldenrod;\">\"plinth_area_sq_ft\"</span>, área de suelo en pies cuadrados que cubre la planta del edificio.\n",
    "    * <span style=\"color:DarkGoldenrod;\">\"height_ft_pre_eq\"</span>, altura en pies del edificio antes del terremoto.\n",
    "    * <span style=\"color:DarkGoldenrod;\">\"height_ft_post_eq\"</span>, altura en pies del edifio tras el terremoto.\n",
    "    * <span style=\"color:DarkGoldenrod;\">\"land_surface_condition\"</span>, condiciones del terreno en el que está asentado.\n",
    "    * <span style=\"color:DarkGoldenrod;\">\"foundation_type\"</span>, tipo de cimientos o base.\n",
    "    * <span style=\"color:DarkGoldenrod;\">\"roof_type\"</span>, tipo de tejado.\n",
    "    * <span style=\"color:DarkGoldenrod;\">\"ground_floor_type\"</span>, tipo de planta suelo.\n",
    "    * <span style=\"color:DarkGoldenrod;\">\"other_floor_type\"</span>, tipo del resto de las plantas, si tiene.\n",
    "    * <span style=\"color:DarkGoldenrod;\">\"position\"</span>, tipo de adosamiento a otros edificios.\n",
    "    * <span style=\"color:DarkGoldenrod;\">\"plan_configuration\"</span>, forma de la planta del edificio.\n",
    "    * <span style=\"color:DarkGoldenrod;\">\"has_superstructure_adobe_mud\"</span>, variable one-hot-encoding, material de superestructura barro/adobe.\n",
    "    * <span style=\"color:DarkGoldenrod;\">\"has_superstructure_mud_mortar_stone\"</span>, variable one-hot-encoding, material de superestructura barro/mortero/piedra.\n",
    "    * <span style=\"color:DarkGoldenrod;\">\"has_superstructure_stone_flag\"</span>, variable one-hot-encoding, material de superestructura bloques de piedra.\n",
    "    * <span style=\"color:DarkGoldenrod;\">\"has_superstructure_cement_mortar_stone\"</span>, variable one-hot-encoding, material de superestructura cemento/mortero/piedra.\n",
    "    * <span style=\"color:DarkGoldenrod;\">\"has_superstructure_mud_mortar_brick\"</span>, variable one-hot-encoding, material de superestructura barro/mortero/ladrillo.\n",
    "    * <span style=\"color:DarkGoldenrod;\">\"has_superstructure_cement_mortar_brick\"</span>, variable one-hot-encoding, material de superestructura cementeo/mortero/ladrillo.\n",
    "    * <span style=\"color:DarkGoldenrod;\">\"has_superstructure_timber\"</span>, variable one-hot-encoding, material de superestructura madera.\n",
    "    * <span style=\"color:DarkGoldenrod;\">\"has_superstructure_bamboo\"</span>, variable one-hot-encoding, material de superestructura bambú.\n",
    "    * <span style=\"color:DarkGoldenrod;\">\"has_superstructure_rc_non_engineered\"</span>, variable one-hot-encoding, material de superestructura cemento armado puro.\n",
    "    * <span style=\"color:DarkGoldenrod;\">\"has_superstructure_rc_engineered\"</span>, variable one-hot-encoding, material de superestructura cemento armado con superaditivos.\n",
    "    * <span style=\"color:DarkGoldenrod;\">\"has_superstructure_other\"</span>, variable one-hot-encoding, material de superestructura otros.\n",
    "    * <span style=\"color:DarkGoldenrod;\">\"condition_post_eq\"</span>, condición general del edificio tras el terremoto.\n",
    "    * <span style=\"color:DarkGoldenrod;\">\"damage_grade\"</span>, grado de daño, nuestro target.\n",
    "    * <span style=\"color:DarkGoldenrod;\">\"technical_solution_proposed\"</span>, acción correctora aconsejada.\n",
    "    <br><br>\n",
    "\n",
    "Además, incluye otros datasets de apoyo suplementarios, de los cuales podremos aprovechar características aisladas:\n",
    "* **<span style=\"color:Crimson;\">\"building_damage_assessment.csv\"</span>**, revisión detallada de daños estructurales. No detallamos aquí, por tener 79 características,  \n",
    "  pero incluye datos sobre daños en paredes, techos, fachada, deformación de planta, desplazamiento de los edificios, entre otras.\n",
    "<br><br>\n",
    "* **<span style=\"color:Crimson;\">\"building_ownership_and_use.csv\"</span>**, con los tipos de propiedad y uso destinado del inmueble. Sus variables son:\n",
    "    * <span style=\"color:DarkGoldenrod;\">\"building_id\"\"</span>, que contiene el identificador único del edificio/vivienda.\n",
    "    * <span style=\"color:DarkGoldenrod;\">\"district_id\", \"vdcmun_id\" y \"ward_id\"</span>, que contienen datos de localización del edificio/vivienda.\n",
    "    * <span style=\"color:DarkGoldenrod;\">\"legal_ownership_status\"</span>, tipo de propiedad (pública o privada).\n",
    "    * <span style=\"color:DarkGoldenrod;\">\"count_families\"</span>, conteo de unidades familiares residentes en la misma vivienda.\n",
    "    * <span style=\"color:DarkGoldenrod;\">\"has_secondary_use\"</span>, variable one-hot-encoding, si es de uso no residencial.\n",
    "    * <span style=\"color:DarkGoldenrod;\">\"has_secondary_use_agriculture\"</span>, variable one-hot-encoding, dedicado a agricultura.\n",
    "    * <span style=\"color:DarkGoldenrod;\">\"has_secondary_use_hotel\"</span>, variable one-hot-encoding, dedicado a hotel.\n",
    "    * <span style=\"color:DarkGoldenrod;\">\"has_secondary_use_rental\"</span>, variable one-hot-encoding, dedicado a alquiler.\n",
    "    * <span style=\"color:DarkGoldenrod;\">\"has_secondary_use_institution\"</span>, variable one-hot-encoding, dedicado a institucional.\n",
    "    * <span style=\"color:DarkGoldenrod;\">\"has_secondary_use_school\"</span>, variable one-hot-encoding, dedicado a educación.\n",
    "    * <span style=\"color:DarkGoldenrod;\">\"has_secondary_use_industry\"</span>, variable one-hot-encoding, dedicado a industria.\n",
    "    * <span style=\"color:DarkGoldenrod;\">\"has_secondary_use_health_post\"</span>, variable one-hot-encoding, dedicado a sanidad.\n",
    "    * <span style=\"color:DarkGoldenrod;\">\"has_secondary_use_gov_office\"</span>, variable one-hot-encoding, dedicado a administración pública.\n",
    "    * <span style=\"color:DarkGoldenrod;\">\"has_secondary_use_use_police\"</span>, variable one-hot-encoding, dedicado a policia/fuerzas del orden.\n",
    "    * <span style=\"color:DarkGoldenrod;\">\"has_secondary_use_other\"</span>, variable one-hot-encoding, dedicado a otros usos no residenciales.\n",
    "<br><br>\n",
    "* **<span style=\"color:Crimson;\">\"household_demographics.csv\"</span>**, con los tipos de propiedad y uso destinado del inmueble. Sus variables son:\n",
    "    * <span style=\"color:DarkGoldenrod;\">\"household_id\"\"</span>, que contiene el identificador único del titular del derecho de uso (propietario/arrendatario).\n",
    "    * <span style=\"color:DarkGoldenrod;\">\"district_id\", \"vdcmun_id\" y \"ward_id\"</span>, que contienen datos de localización del edificio/vivienda.\n",
    "    * <span style=\"color:DarkGoldenrod;\">\"gender_household_head\"</span>, sexo del titular (el cabeza de familia).\n",
    "    * <span style=\"color:DarkGoldenrod;\">\"age_household_head\"</span>, edad del cabeza de fal¡milia.\n",
    "    * <span style=\"color:DarkGoldenrod;\">\"caste_household\"</span>, casta social del cabeza de familia.\n",
    "    * <span style=\"color:DarkGoldenrod;\">\"has_secondary_use_agriculture\"</span>, variable one-hot-encoding, dedicado a agricultura.\n",
    "    * <span style=\"color:DarkGoldenrod;\">\"has_secondary_use_hotel\"</span>, variable one-hot-encoding, dedicado a hotel.\n",
    "    * <span style=\"color:DarkGoldenrod;\">\"has_secondary_use_rental\"</span>, variable one-hot-encoding, dedicado a alquiler.\n",
    "    * <span style=\"color:DarkGoldenrod;\">\"has_secondary_use_institution\"</span>, variable one-hot-encoding, dedicado a institucional.\n",
    "</details>"
   ]
  },
  {
   "cell_type": "markdown",
   "id": "fc6994d8-caf3-4053-9ea6-a097b1960086",
   "metadata": {},
   "source": [
    "## <span style=\"color:CornflowerBlue; text-decoration: underline overline;\">EL ESTUDIO:</span>"
   ]
  },
  {
   "cell_type": "markdown",
   "id": "d3a7fd66-fb72-4883-9e5e-8f02a355c409",
   "metadata": {
    "jp-MarkdownHeadingCollapsed": true
   },
   "source": [
    "#### <span style=\"color:CornflowerBlue;\">Instalación</span> opcional de librerías"
   ]
  },
  {
   "cell_type": "code",
   "execution_count": null,
   "id": "75c9fa3c-0668-4d7f-89d5-5497d6cc4b6b",
   "metadata": {},
   "outputs": [],
   "source": [
    "# !pip install dtale"
   ]
  },
  {
   "cell_type": "markdown",
   "id": "a3c5a8ff-5309-40d2-bbe4-7e29c3d01683",
   "metadata": {
    "jp-MarkdownHeadingCollapsed": true
   },
   "source": [
    "#### <span style=\"color:CornflowerBlue;\">Comenzaremos</span> por cargar las librerías necesarias:"
   ]
  },
  {
   "cell_type": "code",
   "execution_count": 1,
   "id": "7c77c3d8-5fa2-4932-900e-b3c38e22e129",
   "metadata": {},
   "outputs": [],
   "source": [
    "import pandas as pd\n",
    "import dtale"
   ]
  },
  {
   "cell_type": "markdown",
   "id": "beecc75e-8c66-4bd4-8f7a-7eba7087eb76",
   "metadata": {},
   "source": [
    "Primero ajustaremos las opciones visualización de Pandas. Podemos quitar o cambiar el límite de visualización  \n",
    "de las columnas y filas que se muestran al llamar al dataset para visualizarlo:"
   ]
  },
  {
   "cell_type": "markdown",
   "id": "e12c68dd-d139-4cd1-9fd7-5e61f63dd319",
   "metadata": {
    "jp-MarkdownHeadingCollapsed": true
   },
   "source": [
    "#### <span style=\"color:CornflowerBlue;\">Configuración</span> del visualizador de Pandas"
   ]
  },
  {
   "cell_type": "code",
   "execution_count": 10,
   "id": "bcfc26f7-d243-4e74-8818-8f73524127c2",
   "metadata": {},
   "outputs": [],
   "source": [
    "# Revisamos cuántas columnas se visualizan por defecto del dataframe:\n",
    "pd.get_option(\"display.max_columns\")"
   ]
  },
  {
   "cell_type": "code",
   "execution_count": 11,
   "id": "7eb2bf98-867e-4ab4-8cf1-6425f86a7cd8",
   "metadata": {},
   "outputs": [],
   "source": [
    "# Cambiamos la opción de visualización de Pandas para poder ver todas las columnas:\n",
    "pd.set_option(\"display.max_columns\", None)"
   ]
  },
  {
   "cell_type": "code",
   "execution_count": 13,
   "id": "909648b1-a31e-4fd8-8826-fbb8fc892402",
   "metadata": {},
   "outputs": [],
   "source": [
    "# Podemos también cambiar cuántas filas se visualizarán por defecto, pero en este caso no lo haremos\n",
    "# ya que hay más de 762.000 filas.\n",
    "# pd.set_option(\"display.max_rows\", None)"
   ]
  },
  {
   "cell_type": "code",
   "execution_count": null,
   "id": "465dde4d-e756-4d0d-9d91-5348055639e2",
   "metadata": {},
   "outputs": [],
   "source": [
    "# También podemos alterar el ancho máximo de cada columna:\n",
    "# pd.set_option(\"display.max_colwidth\", 200)"
   ]
  },
  {
   "cell_type": "code",
   "execution_count": null,
   "id": "1e6dd2db-21ff-4de4-9ae8-20fb1be79223",
   "metadata": {},
   "outputs": [],
   "source": [
    "# Y alterar el número de decimales mostrados para visualizar los números reales completos:\n",
    "# pd.set_option(\"display.precision\", 15)"
   ]
  },
  {
   "cell_type": "code",
   "execution_count": 15,
   "id": "5641f7e2-c4ba-41bc-8ca5-14252714ca62",
   "metadata": {},
   "outputs": [],
   "source": [
    "# Y alterar el ancho de las columnas cuando usamos .info()\n",
    "pd.set_option(\"display.max_info_columns\", 200)"
   ]
  },
  {
   "cell_type": "markdown",
   "id": "75d26e60-f0f9-4aa3-9fca-62a8f19c1824",
   "metadata": {},
   "source": [
    "#### <span style=\"color:CornflowerBlue;\">Importamos</span> los datasets y hacemos una inspección básica:"
   ]
  },
  {
   "cell_type": "markdown",
   "id": "bc8cdd6a-c60f-42b3-8496-969767e0c5b7",
   "metadata": {},
   "source": [
    "##### Dataset de características estructurales de la construcción <span style=\"color:DarkGoldenrod;\">\"building_structure.csv\"</span>:"
   ]
  },
  {
   "cell_type": "code",
   "execution_count": 7,
   "id": "da95ddf7-5792-4777-9100-789544a18401",
   "metadata": {},
   "outputs": [],
   "source": [
    "structure = pd.read_csv(\"./data/building_structure.csv\")"
   ]
  },
  {
   "cell_type": "code",
   "execution_count": 8,
   "id": "6cd95d63-44d4-4d2c-9732-77542426dcee",
   "metadata": {},
   "outputs": [
    {
     "data": {
      "text/html": [
       "<div>\n",
       "<style scoped>\n",
       "    .dataframe tbody tr th:only-of-type {\n",
       "        vertical-align: middle;\n",
       "    }\n",
       "\n",
       "    .dataframe tbody tr th {\n",
       "        vertical-align: top;\n",
       "    }\n",
       "\n",
       "    .dataframe thead th {\n",
       "        text-align: right;\n",
       "    }\n",
       "</style>\n",
       "<table border=\"1\" class=\"dataframe\">\n",
       "  <thead>\n",
       "    <tr style=\"text-align: right;\">\n",
       "      <th></th>\n",
       "      <th>building_id</th>\n",
       "      <th>district_id</th>\n",
       "      <th>vdcmun_id</th>\n",
       "      <th>ward_id</th>\n",
       "      <th>count_floors_pre_eq</th>\n",
       "      <th>count_floors_post_eq</th>\n",
       "      <th>age_building</th>\n",
       "      <th>plinth_area_sq_ft</th>\n",
       "      <th>height_ft_pre_eq</th>\n",
       "      <th>height_ft_post_eq</th>\n",
       "      <th>land_surface_condition</th>\n",
       "      <th>foundation_type</th>\n",
       "      <th>roof_type</th>\n",
       "      <th>ground_floor_type</th>\n",
       "      <th>other_floor_type</th>\n",
       "      <th>position</th>\n",
       "      <th>plan_configuration</th>\n",
       "      <th>has_superstructure_adobe_mud</th>\n",
       "      <th>has_superstructure_mud_mortar_stone</th>\n",
       "      <th>has_superstructure_stone_flag</th>\n",
       "      <th>has_superstructure_cement_mortar_stone</th>\n",
       "      <th>has_superstructure_mud_mortar_brick</th>\n",
       "      <th>has_superstructure_cement_mortar_brick</th>\n",
       "      <th>has_superstructure_timber</th>\n",
       "      <th>has_superstructure_bamboo</th>\n",
       "      <th>has_superstructure_rc_non_engineered</th>\n",
       "      <th>has_superstructure_rc_engineered</th>\n",
       "      <th>has_superstructure_other</th>\n",
       "      <th>condition_post_eq</th>\n",
       "      <th>damage_grade</th>\n",
       "      <th>technical_solution_proposed</th>\n",
       "    </tr>\n",
       "  </thead>\n",
       "  <tbody>\n",
       "    <tr>\n",
       "      <th>0</th>\n",
       "      <td>120101000011</td>\n",
       "      <td>12</td>\n",
       "      <td>1207</td>\n",
       "      <td>120703</td>\n",
       "      <td>1</td>\n",
       "      <td>1</td>\n",
       "      <td>9</td>\n",
       "      <td>288</td>\n",
       "      <td>9</td>\n",
       "      <td>9</td>\n",
       "      <td>Flat</td>\n",
       "      <td>Other</td>\n",
       "      <td>Bamboo/Timber-Light roof</td>\n",
       "      <td>Mud</td>\n",
       "      <td>Not applicable</td>\n",
       "      <td>Not attached</td>\n",
       "      <td>Rectangular</td>\n",
       "      <td>0</td>\n",
       "      <td>1</td>\n",
       "      <td>0</td>\n",
       "      <td>0</td>\n",
       "      <td>0</td>\n",
       "      <td>0</td>\n",
       "      <td>0</td>\n",
       "      <td>1</td>\n",
       "      <td>0</td>\n",
       "      <td>0</td>\n",
       "      <td>0</td>\n",
       "      <td>Damaged-Used in risk</td>\n",
       "      <td>Grade 3</td>\n",
       "      <td>Major repair</td>\n",
       "    </tr>\n",
       "    <tr>\n",
       "      <th>1</th>\n",
       "      <td>120101000021</td>\n",
       "      <td>12</td>\n",
       "      <td>1207</td>\n",
       "      <td>120703</td>\n",
       "      <td>1</td>\n",
       "      <td>1</td>\n",
       "      <td>15</td>\n",
       "      <td>364</td>\n",
       "      <td>9</td>\n",
       "      <td>9</td>\n",
       "      <td>Flat</td>\n",
       "      <td>Other</td>\n",
       "      <td>Bamboo/Timber-Light roof</td>\n",
       "      <td>Mud</td>\n",
       "      <td>Not applicable</td>\n",
       "      <td>Not attached</td>\n",
       "      <td>Rectangular</td>\n",
       "      <td>0</td>\n",
       "      <td>1</td>\n",
       "      <td>0</td>\n",
       "      <td>0</td>\n",
       "      <td>0</td>\n",
       "      <td>0</td>\n",
       "      <td>0</td>\n",
       "      <td>1</td>\n",
       "      <td>0</td>\n",
       "      <td>0</td>\n",
       "      <td>0</td>\n",
       "      <td>Damaged-Repaired and used</td>\n",
       "      <td>Grade 5</td>\n",
       "      <td>Reconstruction</td>\n",
       "    </tr>\n",
       "    <tr>\n",
       "      <th>2</th>\n",
       "      <td>120101000031</td>\n",
       "      <td>12</td>\n",
       "      <td>1207</td>\n",
       "      <td>120703</td>\n",
       "      <td>1</td>\n",
       "      <td>1</td>\n",
       "      <td>20</td>\n",
       "      <td>384</td>\n",
       "      <td>9</td>\n",
       "      <td>9</td>\n",
       "      <td>Flat</td>\n",
       "      <td>Other</td>\n",
       "      <td>Bamboo/Timber-Light roof</td>\n",
       "      <td>Mud</td>\n",
       "      <td>Not applicable</td>\n",
       "      <td>Not attached</td>\n",
       "      <td>Rectangular</td>\n",
       "      <td>0</td>\n",
       "      <td>1</td>\n",
       "      <td>0</td>\n",
       "      <td>0</td>\n",
       "      <td>0</td>\n",
       "      <td>0</td>\n",
       "      <td>0</td>\n",
       "      <td>0</td>\n",
       "      <td>0</td>\n",
       "      <td>0</td>\n",
       "      <td>0</td>\n",
       "      <td>Damaged-Repaired and used</td>\n",
       "      <td>Grade 2</td>\n",
       "      <td>Minor repair</td>\n",
       "    </tr>\n",
       "    <tr>\n",
       "      <th>3</th>\n",
       "      <td>120101000041</td>\n",
       "      <td>12</td>\n",
       "      <td>1207</td>\n",
       "      <td>120703</td>\n",
       "      <td>1</td>\n",
       "      <td>1</td>\n",
       "      <td>20</td>\n",
       "      <td>312</td>\n",
       "      <td>9</td>\n",
       "      <td>9</td>\n",
       "      <td>Flat</td>\n",
       "      <td>Other</td>\n",
       "      <td>Bamboo/Timber-Light roof</td>\n",
       "      <td>Mud</td>\n",
       "      <td>Not applicable</td>\n",
       "      <td>Not attached</td>\n",
       "      <td>Rectangular</td>\n",
       "      <td>0</td>\n",
       "      <td>1</td>\n",
       "      <td>0</td>\n",
       "      <td>0</td>\n",
       "      <td>0</td>\n",
       "      <td>0</td>\n",
       "      <td>0</td>\n",
       "      <td>0</td>\n",
       "      <td>0</td>\n",
       "      <td>0</td>\n",
       "      <td>0</td>\n",
       "      <td>Damaged-Repaired and used</td>\n",
       "      <td>Grade 2</td>\n",
       "      <td>Minor repair</td>\n",
       "    </tr>\n",
       "    <tr>\n",
       "      <th>4</th>\n",
       "      <td>120101000051</td>\n",
       "      <td>12</td>\n",
       "      <td>1207</td>\n",
       "      <td>120703</td>\n",
       "      <td>1</td>\n",
       "      <td>1</td>\n",
       "      <td>30</td>\n",
       "      <td>308</td>\n",
       "      <td>9</td>\n",
       "      <td>9</td>\n",
       "      <td>Flat</td>\n",
       "      <td>Other</td>\n",
       "      <td>Bamboo/Timber-Light roof</td>\n",
       "      <td>Mud</td>\n",
       "      <td>Not applicable</td>\n",
       "      <td>Not attached</td>\n",
       "      <td>Rectangular</td>\n",
       "      <td>0</td>\n",
       "      <td>1</td>\n",
       "      <td>0</td>\n",
       "      <td>0</td>\n",
       "      <td>0</td>\n",
       "      <td>0</td>\n",
       "      <td>0</td>\n",
       "      <td>0</td>\n",
       "      <td>0</td>\n",
       "      <td>0</td>\n",
       "      <td>0</td>\n",
       "      <td>Damaged-Repaired and used</td>\n",
       "      <td>Grade 1</td>\n",
       "      <td>Minor repair</td>\n",
       "    </tr>\n",
       "  </tbody>\n",
       "</table>\n",
       "</div>"
      ],
      "text/plain": [
       "    building_id  district_id  vdcmun_id  ward_id  count_floors_pre_eq  \\\n",
       "0  120101000011           12       1207   120703                    1   \n",
       "1  120101000021           12       1207   120703                    1   \n",
       "2  120101000031           12       1207   120703                    1   \n",
       "3  120101000041           12       1207   120703                    1   \n",
       "4  120101000051           12       1207   120703                    1   \n",
       "\n",
       "   count_floors_post_eq  age_building  plinth_area_sq_ft  height_ft_pre_eq  \\\n",
       "0                     1             9                288                 9   \n",
       "1                     1            15                364                 9   \n",
       "2                     1            20                384                 9   \n",
       "3                     1            20                312                 9   \n",
       "4                     1            30                308                 9   \n",
       "\n",
       "   height_ft_post_eq land_surface_condition foundation_type  \\\n",
       "0                  9                   Flat           Other   \n",
       "1                  9                   Flat           Other   \n",
       "2                  9                   Flat           Other   \n",
       "3                  9                   Flat           Other   \n",
       "4                  9                   Flat           Other   \n",
       "\n",
       "                  roof_type ground_floor_type other_floor_type      position  \\\n",
       "0  Bamboo/Timber-Light roof               Mud   Not applicable  Not attached   \n",
       "1  Bamboo/Timber-Light roof               Mud   Not applicable  Not attached   \n",
       "2  Bamboo/Timber-Light roof               Mud   Not applicable  Not attached   \n",
       "3  Bamboo/Timber-Light roof               Mud   Not applicable  Not attached   \n",
       "4  Bamboo/Timber-Light roof               Mud   Not applicable  Not attached   \n",
       "\n",
       "  plan_configuration  has_superstructure_adobe_mud  \\\n",
       "0        Rectangular                             0   \n",
       "1        Rectangular                             0   \n",
       "2        Rectangular                             0   \n",
       "3        Rectangular                             0   \n",
       "4        Rectangular                             0   \n",
       "\n",
       "   has_superstructure_mud_mortar_stone  has_superstructure_stone_flag  \\\n",
       "0                                    1                              0   \n",
       "1                                    1                              0   \n",
       "2                                    1                              0   \n",
       "3                                    1                              0   \n",
       "4                                    1                              0   \n",
       "\n",
       "   has_superstructure_cement_mortar_stone  \\\n",
       "0                                       0   \n",
       "1                                       0   \n",
       "2                                       0   \n",
       "3                                       0   \n",
       "4                                       0   \n",
       "\n",
       "   has_superstructure_mud_mortar_brick  \\\n",
       "0                                    0   \n",
       "1                                    0   \n",
       "2                                    0   \n",
       "3                                    0   \n",
       "4                                    0   \n",
       "\n",
       "   has_superstructure_cement_mortar_brick  has_superstructure_timber  \\\n",
       "0                                       0                          0   \n",
       "1                                       0                          0   \n",
       "2                                       0                          0   \n",
       "3                                       0                          0   \n",
       "4                                       0                          0   \n",
       "\n",
       "   has_superstructure_bamboo  has_superstructure_rc_non_engineered  \\\n",
       "0                          1                                     0   \n",
       "1                          1                                     0   \n",
       "2                          0                                     0   \n",
       "3                          0                                     0   \n",
       "4                          0                                     0   \n",
       "\n",
       "   has_superstructure_rc_engineered  has_superstructure_other  \\\n",
       "0                                 0                         0   \n",
       "1                                 0                         0   \n",
       "2                                 0                         0   \n",
       "3                                 0                         0   \n",
       "4                                 0                         0   \n",
       "\n",
       "           condition_post_eq damage_grade technical_solution_proposed  \n",
       "0       Damaged-Used in risk      Grade 3                Major repair  \n",
       "1  Damaged-Repaired and used      Grade 5              Reconstruction  \n",
       "2  Damaged-Repaired and used      Grade 2                Minor repair  \n",
       "3  Damaged-Repaired and used      Grade 2                Minor repair  \n",
       "4  Damaged-Repaired and used      Grade 1                Minor repair  "
      ]
     },
     "execution_count": 8,
     "metadata": {},
     "output_type": "execute_result"
    }
   ],
   "source": [
    "structure.head()"
   ]
  },
  {
   "cell_type": "code",
   "execution_count": 12,
   "id": "98a7e5d8-9676-4239-82cf-a75703e9e5ec",
   "metadata": {},
   "outputs": [
    {
     "data": {
      "text/plain": [
       "(762106, 31)"
      ]
     },
     "execution_count": 12,
     "metadata": {},
     "output_type": "execute_result"
    }
   ],
   "source": [
    "structure.shape"
   ]
  },
  {
   "cell_type": "code",
   "execution_count": 14,
   "id": "4b5872a3-0300-480f-81f1-67936d81d9d4",
   "metadata": {},
   "outputs": [
    {
     "name": "stdout",
     "output_type": "stream",
     "text": [
      "<class 'pandas.core.frame.DataFrame'>\n",
      "RangeIndex: 762106 entries, 0 to 762105\n",
      "Data columns (total 31 columns):\n",
      " #   Column                                  Non-Null Count   Dtype \n",
      "---  ------                                  --------------   ----- \n",
      " 0   building_id                             762106 non-null  int64 \n",
      " 1   district_id                             762106 non-null  int64 \n",
      " 2   vdcmun_id                               762106 non-null  int64 \n",
      " 3   ward_id                                 762106 non-null  int64 \n",
      " 4   count_floors_pre_eq                     762106 non-null  int64 \n",
      " 5   count_floors_post_eq                    762106 non-null  int64 \n",
      " 6   age_building                            762106 non-null  int64 \n",
      " 7   plinth_area_sq_ft                       762106 non-null  int64 \n",
      " 8   height_ft_pre_eq                        762106 non-null  int64 \n",
      " 9   height_ft_post_eq                       762106 non-null  int64 \n",
      " 10  land_surface_condition                  762106 non-null  object\n",
      " 11  foundation_type                         762106 non-null  object\n",
      " 12  roof_type                               762106 non-null  object\n",
      " 13  ground_floor_type                       762106 non-null  object\n",
      " 14  other_floor_type                        762106 non-null  object\n",
      " 15  position                                762105 non-null  object\n",
      " 16  plan_configuration                      762105 non-null  object\n",
      " 17  has_superstructure_adobe_mud            762106 non-null  int64 \n",
      " 18  has_superstructure_mud_mortar_stone     762106 non-null  int64 \n",
      " 19  has_superstructure_stone_flag           762106 non-null  int64 \n",
      " 20  has_superstructure_cement_mortar_stone  762106 non-null  int64 \n",
      " 21  has_superstructure_mud_mortar_brick     762106 non-null  int64 \n",
      " 22  has_superstructure_cement_mortar_brick  762106 non-null  int64 \n",
      " 23  has_superstructure_timber               762106 non-null  int64 \n",
      " 24  has_superstructure_bamboo               762106 non-null  int64 \n",
      " 25  has_superstructure_rc_non_engineered    762106 non-null  int64 \n",
      " 26  has_superstructure_rc_engineered        762106 non-null  int64 \n",
      " 27  has_superstructure_other                762106 non-null  int64 \n",
      " 28  condition_post_eq                       762106 non-null  object\n",
      " 29  damage_grade                            762094 non-null  object\n",
      " 30  technical_solution_proposed             762094 non-null  object\n",
      "dtypes: int64(21), object(10)\n",
      "memory usage: 180.2+ MB\n"
     ]
    }
   ],
   "source": [
    "structure.info()"
   ]
  },
  {
   "cell_type": "code",
   "execution_count": null,
   "id": "1b6cd5e9-17e4-4ab1-a548-22b8a11d04da",
   "metadata": {},
   "outputs": [],
   "source": [
    "structure.damage_grade.value_counts()"
   ]
  },
  {
   "cell_type": "code",
   "execution_count": null,
   "id": "cb9d3d35-c79a-45e5-aa82-6e000efa5876",
   "metadata": {},
   "outputs": [],
   "source": [
    "structure.technical_solution_proposed.value_counts()"
   ]
  },
  {
   "cell_type": "code",
   "execution_count": 16,
   "id": "03f02aef-f506-4904-af55-8095f8816dc8",
   "metadata": {},
   "outputs": [
    {
     "data": {
      "text/plain": [
       "position\n",
       "Not attached       604453\n",
       "Attached-1 side    129432\n",
       "Attached-2 side     26910\n",
       "Attached-3 side      1310\n",
       "Name: count, dtype: int64"
      ]
     },
     "execution_count": 16,
     "metadata": {},
     "output_type": "execute_result"
    }
   ],
   "source": [
    "structure.position.value_counts()"
   ]
  },
  {
   "cell_type": "code",
   "execution_count": null,
   "id": "25255e92-65d9-4740-b0ff-71d12887bcec",
   "metadata": {},
   "outputs": [],
   "source": [
    "structure.plan_configuration.value_counts()"
   ]
  },
  {
   "cell_type": "code",
   "execution_count": 26,
   "id": "d935e892-8b4e-49db-9f26-fa72c5394e43",
   "metadata": {},
   "outputs": [
    {
     "ename": "AttributeError",
     "evalue": "'Index' object has no attribute 'items'",
     "output_type": "error",
     "traceback": [
      "\u001b[0;31m---------------------------------------------------------------------------\u001b[0m",
      "\u001b[0;31mAttributeError\u001b[0m                            Traceback (most recent call last)",
      "Cell \u001b[0;32mIn[26], line 1\u001b[0m\n\u001b[0;32m----> 1\u001b[0m \u001b[38;5;28;01mfor\u001b[39;00m i,j \u001b[38;5;129;01min\u001b[39;00m structure\u001b[38;5;241m.\u001b[39mcolumns[\u001b[38;5;241m0\u001b[39m:\u001b[38;5;241m17\u001b[39m]\u001b[38;5;241m.\u001b[39mitems():\n\u001b[1;32m      2\u001b[0m     \u001b[38;5;28mprint\u001b[39m(structure\u001b[38;5;241m.\u001b[39mcolumns[i]\u001b[38;5;241m.\u001b[39mvalue_counts())\n",
      "\u001b[0;31mAttributeError\u001b[0m: 'Index' object has no attribute 'items'"
     ]
    }
   ],
   "source": [
    "for i,j in structure.columns[0:17].items():\n",
    "    print(structure.columns[i].value_counts())"
   ]
  },
  {
   "cell_type": "code",
   "execution_count": null,
   "id": "ae6c3d6e-5cea-418b-a069-0e08df5723ac",
   "metadata": {},
   "outputs": [],
   "source": [
    "damage = pd.read_csv(\"./data/building_damage_assessment.csv\", low_memory=False)\n",
    "damage.head()"
   ]
  },
  {
   "cell_type": "code",
   "execution_count": null,
   "id": "93ec05b8-a8e6-4856-9fe7-971a97c2fa45",
   "metadata": {},
   "outputs": [],
   "source": [
    "damage.columns"
   ]
  },
  {
   "cell_type": "code",
   "execution_count": null,
   "id": "e64e15ed-332e-49ca-aa19-379fafa856cc",
   "metadata": {},
   "outputs": [],
   "source": []
  },
  {
   "cell_type": "code",
   "execution_count": null,
   "id": "96d7a99a-a0f4-4b9e-ac72-f518e9771c3e",
   "metadata": {},
   "outputs": [],
   "source": [
    "ownership = pd.read_csv(\"./data/building_ownership_and_use.csv\")"
   ]
  },
  {
   "cell_type": "code",
   "execution_count": null,
   "id": "20a9f1c2-32b3-47b6-b4d9-ce689efcae27",
   "metadata": {},
   "outputs": [],
   "source": [
    "ownership.head()"
   ]
  },
  {
   "cell_type": "code",
   "execution_count": null,
   "id": "62d761da-aaac-4fef-950b-9d951e711b48",
   "metadata": {},
   "outputs": [],
   "source": [
    "ownership.columns"
   ]
  },
  {
   "cell_type": "code",
   "execution_count": null,
   "id": "fac4ac9c-b79f-4d0b-8442-958395496081",
   "metadata": {},
   "outputs": [],
   "source": [
    "ownership.groupby([\"has_secondary_use\", \"has_secondary_use_hotel\"]).value_counts()"
   ]
  },
  {
   "cell_type": "code",
   "execution_count": null,
   "id": "ecd38773-f481-4b1c-8289-ceba8618701f",
   "metadata": {},
   "outputs": [],
   "source": [
    "demographics = pd.read_csv(\"./data/household_demographics.csv\")"
   ]
  },
  {
   "cell_type": "code",
   "execution_count": null,
   "id": "9a91cc3a-f66a-40ab-abef-5aae03d8bf11",
   "metadata": {},
   "outputs": [],
   "source": [
    "demographics.head()"
   ]
  },
  {
   "cell_type": "code",
   "execution_count": null,
   "id": "39710ff0-1708-457b-b625-4878657db192",
   "metadata": {},
   "outputs": [],
   "source": [
    "demographics.columns"
   ]
  },
  {
   "cell_type": "code",
   "execution_count": null,
   "id": "15fb491d-d92b-41f2-b781-7970804a6bb7",
   "metadata": {},
   "outputs": [],
   "source": [
    "resources = pd.read_csv(\"./data/household_resources.csv\")\n",
    "resources.head()"
   ]
  },
  {
   "cell_type": "code",
   "execution_count": null,
   "id": "ef260c84-20e3-442d-928e-fc4c18ecdc88",
   "metadata": {},
   "outputs": [],
   "source": [
    "resources.columns"
   ]
  },
  {
   "cell_type": "code",
   "execution_count": null,
   "id": "612a55b5-2612-4cc0-aad7-735b845fc9db",
   "metadata": {},
   "outputs": [],
   "source": []
  },
  {
   "cell_type": "code",
   "execution_count": null,
   "id": "86e9cc87-5dae-4724-84f1-d79d81f192b5",
   "metadata": {},
   "outputs": [],
   "source": [
    "individuals = pd.read_csv(\"./data/individual_demographics.csv\")\n"
   ]
  },
  {
   "cell_type": "code",
   "execution_count": null,
   "id": "3f1414a4-a204-48f6-9e42-57502e1ef484",
   "metadata": {},
   "outputs": [],
   "source": [
    "individuals.head()"
   ]
  },
  {
   "cell_type": "code",
   "execution_count": null,
   "id": "ff3da5e0-88c4-4b0f-b715-ac3dad18f5ae",
   "metadata": {},
   "outputs": [],
   "source": [
    "individuals.columns"
   ]
  },
  {
   "cell_type": "code",
   "execution_count": null,
   "id": "9d27868d-74ef-4801-ae8b-d9705a1154a0",
   "metadata": {},
   "outputs": [],
   "source": [
    "mapping = pd.read_csv(\"./data/mapping.csv\")\n",
    "mapping.head(20)"
   ]
  },
  {
   "cell_type": "code",
   "execution_count": null,
   "id": "b2cedeaf-5a79-4bc2-b7b7-7439bf01e0bb",
   "metadata": {},
   "outputs": [],
   "source": [
    "mapping.groupby([\"building_id\", \"household_id\"])[\"individual_id\"].nunique()"
   ]
  },
  {
   "cell_type": "code",
   "execution_count": null,
   "id": "3067e583-1dd1-4cf3-80b8-c13e57e287fc",
   "metadata": {},
   "outputs": [],
   "source": [
    "mapping.head()"
   ]
  },
  {
   "cell_type": "code",
   "execution_count": null,
   "id": "18ca7c0c-8d96-42c1-aa8f-49fbdad2e30c",
   "metadata": {},
   "outputs": [],
   "source": [
    "impact = pd.read_csv(\"./data/household_earthquake_impact.csv\")\n",
    "impact.head()"
   ]
  },
  {
   "cell_type": "code",
   "execution_count": null,
   "id": "8209ff23-290f-4131-b0ba-0caffffa4e79",
   "metadata": {},
   "outputs": [],
   "source": [
    "impact.columns"
   ]
  },
  {
   "cell_type": "code",
   "execution_count": null,
   "id": "ed60bc23-f1aa-4252-830c-92ba11f1a8bf",
   "metadata": {},
   "outputs": [],
   "source": []
  },
  {
   "cell_type": "code",
   "execution_count": null,
   "id": "a93f4597-9ed2-4df0-a5e1-d09a79973b31",
   "metadata": {},
   "outputs": [],
   "source": [
    "df_total = pd"
   ]
  }
 ],
 "metadata": {
  "kernelspec": {
   "display_name": "Python 3 (ipykernel)",
   "language": "python",
   "name": "python3"
  },
  "language_info": {
   "codemirror_mode": {
    "name": "ipython",
    "version": 3
   },
   "file_extension": ".py",
   "mimetype": "text/x-python",
   "name": "python",
   "nbconvert_exporter": "python",
   "pygments_lexer": "ipython3",
   "version": "3.11.8"
  }
 },
 "nbformat": 4,
 "nbformat_minor": 5
}
